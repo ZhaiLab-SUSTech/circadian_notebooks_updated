{
 "cells": [
  {
   "cell_type": "markdown",
   "metadata": {},
   "source": [
    "# module"
   ]
  },
  {
   "cell_type": "code",
   "execution_count": null,
   "metadata": {},
   "outputs": [
    {
     "name": "stdout",
     "output_type": "stream",
     "text": [
      "The rpy2.ipython extension is already loaded. To reload it, use:\n",
      "  %reload_ext rpy2.ipython\n"
     ]
    }
   ],
   "source": [
    "from joblib import Parallel, delayed\n",
    "import os\n",
    "os.environ['R_HOME'] = '/public/home/liuzj/softwares/anaconda3/envs/circadian/lib/R'\n",
    "import rpy2\n",
    "import rpy2.robjects as ro\n",
    "from rpy2.robjects.packages import importr\n",
    "import rpy2.ipython.html\n",
    "rpy2.ipython.html.init_printing()\n",
    "from jpy_tools.rTools import py2r, r2py, r_inline_plot, rHelp, trl, rSet, rGet, ad2so, so2ad, so2md, rcontext, Trl, r2py_re, py2r_re\n",
    "from jpy_tools import loadPkl, toPkl\n",
    "rBase = importr('base')\n",
    "rUtils = importr('utils')\n",
    "dplyr = importr('dplyr')\n",
    "reticulate = importr('reticulate')\n",
    "R = ro.r\n",
    "T = Trl()\n",
    "R(\"options(browser='firefox', shiny.port=6533, max.print=200)\")\n",
    "%load_ext rpy2.ipython"
   ]
  },
  {
   "cell_type": "code",
   "execution_count": null,
   "metadata": {},
   "outputs": [],
   "source": [
    "import os"
   ]
  },
  {
   "cell_type": "code",
   "execution_count": null,
   "metadata": {},
   "outputs": [
    {
     "data": {
      "text/plain": [
       "['01_circadian_clustering.ipynb',\n",
       " '01.fine_cluster_circadian_clustering.ipynb',\n",
       " '02_call_circadian.ipynb',\n",
       " '03.scenic.ipynb',\n",
       " '01.1.subclustering_c1.ipynb',\n",
       " 'utils.py',\n",
       " '__pycache__',\n",
       " '04.celloracle.ipynb',\n",
       " 'links.celloracle.links',\n",
       " 'links.subsample.40000.celloracle.links',\n",
       " '01.0.benchmark.ipynb']"
      ]
     },
     "metadata": {},
     "output_type": "display_data"
    }
   ],
   "source": [
    "os.listdir()"
   ]
  },
  {
   "cell_type": "code",
   "execution_count": null,
   "metadata": {},
   "outputs": [
    {
     "data": {
      "text/plain": [
       "<Figure size 640x480 with 0 Axes>"
      ]
     },
     "metadata": {},
     "output_type": "display_data"
    }
   ],
   "source": [
    "%config InlineBackend.figure_format = 'retina'\n",
    "import seaborn as sns\n",
    "import matplotlib as mpl\n",
    "from matplotlib import pyplot as plt\n",
    "import matplotlib.ticker as ticker\n",
    "import matplotlib.font_manager as font_manager\n",
    "import marsilea as ma\n",
    "import marsilea.plotter as mp\n",
    "# plt.rcParams['figure.dpi'] = 150\n",
    "font_dirs = [\"/public/home/mowp/test/fonts/\"]\n",
    "font_files = font_manager.findSystemFonts(fontpaths=font_dirs)\n",
    "for font_file in font_files:\n",
    "    font_manager.fontManager.addfont(font_file)\n",
    "plt.rcParams[\"font.family\"] = \"Arial\"\n",
    "sns.despine(top=True, right=True)\n",
    "from itertools import product\n",
    "from functools import reduce\n",
    "import patchworklib as pw\n",
    "from jpy_tools.otherTools import pwRecoverSeaborn, pwStack, F, pwShow\n",
    "pw.show = pwShow\n",
    "fc_recoverSns = pwRecoverSeaborn()\n",
    "import seaborn.objects as so\n",
    "from cycler import cycler\n",
    "dt_snsStyle = {**sns.axes_style('ticks'), \"legend.frameon\": False, \"axes.spines.top\":False, \"axes.spines.right\":False, \"axes.prop_cycle\":cycler(color=['grey'])}\n",
    "so.Plot.config.theme.update(dt_snsStyle)"
   ]
  },
  {
   "cell_type": "code",
   "execution_count": null,
   "metadata": {},
   "outputs": [],
   "source": [
    "import scanpy as sc\n",
    "import muon as mu\n",
    "import pandas as pd\n",
    "import numpy as np\n",
    "import scipy.sparse as ss\n",
    "from tqdm import tqdm\n",
    "from loguru import logger"
   ]
  },
  {
   "cell_type": "code",
   "execution_count": null,
   "metadata": {},
   "outputs": [],
   "source": [
    "import pyranges as pr"
   ]
  },
  {
   "cell_type": "code",
   "execution_count": null,
   "metadata": {},
   "outputs": [
    {
     "data": {
      "text/plain": [
       "<Figure size 640x480 with 0 Axes>"
      ]
     },
     "metadata": {},
     "output_type": "display_data"
    }
   ],
   "source": [
    "import utils"
   ]
  },
  {
   "cell_type": "code",
   "execution_count": null,
   "metadata": {},
   "outputs": [
    {
     "name": "stderr",
     "output_type": "stream",
     "text": [
      "Global seed set to 0\n"
     ]
    }
   ],
   "source": [
    "from jpy_tools import singleCellTools\n",
    "from functools import partial"
   ]
  },
  {
   "cell_type": "code",
   "execution_count": null,
   "metadata": {},
   "outputs": [],
   "source": [
    "import seaborn.objects as so\n",
    "\n",
    "dt_snsStyle = {\n",
    "    **sns.axes_style(\"ticks\"),\n",
    "    \"axes.spines.top\": False,\n",
    "    \"axes.spines.right\": False,\n",
    "}"
   ]
  },
  {
   "cell_type": "code",
   "execution_count": null,
   "metadata": {},
   "outputs": [],
   "source": [
    "dir_result = \"/data/Zhaijx/liuzj/projects/circadian/03_analysis/\"\n",
    "dir_temp = \"/data/Zhaijx/liuzj/projects/singleCell/02_jupyter/circadian/20221122/\""
   ]
  },
  {
   "cell_type": "code",
   "execution_count": null,
   "metadata": {},
   "outputs": [],
   "source": [
    "# md = loadPkl('md_20220829_after_diffxpy_marker', lambda **dt:mu.read_h5mu(**dt), arg_path='filename', dir_path=dir_temp)\n",
    "# ad = md['all']"
   ]
  },
  {
   "cell_type": "code",
   "execution_count": null,
   "metadata": {},
   "outputs": [],
   "source": [
    "ls_sample = [8, 10, 12, 14, 16, 18, 20, 22, 24, 2, 4, 6] | F(map, str) | F(list)"
   ]
  },
  {
   "cell_type": "code",
   "execution_count": null,
   "metadata": {},
   "outputs": [],
   "source": [
    "dt_sample2Phase = {x: y for x, y in zip(ls_sample, range(0, 26, 2))}\n",
    "dt_phase2Sample = {y: x for x, y in dt_sample2Phase.items()}"
   ]
  },
  {
   "cell_type": "code",
   "execution_count": null,
   "metadata": {},
   "outputs": [],
   "source": [
    "dt_sample2Ct = {x: y for x, y in zip(ls_sample, range(48, 72, 2))}"
   ]
  },
  {
   "cell_type": "code",
   "execution_count": null,
   "metadata": {},
   "outputs": [],
   "source": [
    "# ad.obs['CT'] = ad.obs['Sample'].map(dt_sample2Ct)"
   ]
  },
  {
   "cell_type": "code",
   "execution_count": null,
   "metadata": {},
   "outputs": [],
   "source": [
    "# ls_cluster = ad.obs['leiden'].cat.categories.to_list()"
   ]
  },
  {
   "cell_type": "code",
   "execution_count": null,
   "metadata": {},
   "outputs": [],
   "source": [
    "# toPkl(md, 'md_20220825', 'ipf', dir_path=dir_temp)"
   ]
  },
  {
   "cell_type": "code",
   "execution_count": null,
   "metadata": {},
   "outputs": [],
   "source": [
    "!mkdir {dir_temp}"
   ]
  },
  {
   "cell_type": "code",
   "execution_count": null,
   "metadata": {},
   "outputs": [],
   "source": []
  },
  {
   "cell_type": "code",
   "execution_count": null,
   "metadata": {},
   "outputs": [],
   "source": [
    "from dataclasses import dataclass\n",
    "from typing import Any\n",
    "\n",
    "import numpy as np\n",
    "import matplotlib as mpl\n",
    "from matplotlib.artist import Artist\n",
    "from seaborn._core.scales import Scale\n",
    "from seaborn._marks.base import (\n",
    "    Mark,\n",
    "    Mappable,\n",
    "    MappableBool,\n",
    "    MappableColor,\n",
    "    MappableFloat,\n",
    "    MappableStyle,\n",
    "    resolve_properties,\n",
    "    resolve_color,\n",
    "    document_properties,\n",
    ")\n",
    "from collections import defaultdict\n",
    "\n",
    "\n",
    "class BarBase(Mark):\n",
    "    def _make_patches(self, data, scales, orient):\n",
    "        kws = self._resolve_properties(data, scales)\n",
    "        if orient == \"x\":\n",
    "            kws[\"x\"] = (data[\"x\"] - data[\"width\"] / 2).to_numpy()\n",
    "            kws[\"y\"] = data[\"baseline\"].to_numpy()\n",
    "            kws[\"w\"] = data[\"width\"].to_numpy()\n",
    "            kws[\"h\"] = (data[\"y\"] - data[\"baseline\"]).to_numpy()\n",
    "        else:\n",
    "            kws[\"x\"] = data[\"baseline\"].to_numpy()\n",
    "            kws[\"y\"] = (data[\"y\"] - data[\"width\"] / 2).to_numpy()\n",
    "            kws[\"w\"] = (data[\"x\"] - data[\"baseline\"]).to_numpy()\n",
    "            kws[\"h\"] = data[\"width\"].to_numpy()\n",
    "\n",
    "        kws.pop(\"width\", None)\n",
    "        kws.pop(\"baseline\", None)\n",
    "\n",
    "        val_dim = {\"x\": \"h\", \"y\": \"w\"}[orient]\n",
    "        bars, vals = [], []\n",
    "\n",
    "        for i in range(len(data)):\n",
    "            row = {k: v[i] for k, v in kws.items()}\n",
    "\n",
    "            # Skip bars with no value. It's possible we'll want to make this\n",
    "            # an option (i.e so you have an artist for animating or annotating),\n",
    "            # but let's keep things simple for now.\n",
    "            if not np.nan_to_num(row[val_dim]):\n",
    "                continue\n",
    "\n",
    "            bar = mpl.patches.Rectangle(\n",
    "                xy=(row[\"x\"], row[\"y\"]),\n",
    "                width=row[\"w\"],\n",
    "                height=row[\"h\"],\n",
    "                facecolor=row[\"facecolor\"],\n",
    "                edgecolor=row[\"edgecolor\"],\n",
    "                linestyle=row[\"edgestyle\"],\n",
    "                linewidth=row[\"edgewidth\"],\n",
    "                **self.artist_kws,\n",
    "            )\n",
    "            bars.append(bar)\n",
    "            vals.append(row[val_dim])\n",
    "\n",
    "        return bars, vals\n",
    "\n",
    "    def _resolve_properties(self, data, scales):\n",
    "        resolved = resolve_properties(self, data, scales)\n",
    "\n",
    "        resolved[\"facecolor\"] = resolve_color(self, data, \"\", scales)\n",
    "        resolved[\"edgecolor\"] = resolve_color(self, data, \"edge\", scales)\n",
    "\n",
    "        fc = resolved[\"facecolor\"]\n",
    "        if isinstance(fc, tuple):\n",
    "            resolved[\"facecolor\"] = fc[0], fc[1], fc[2], fc[3] * resolved[\"fill\"]\n",
    "        else:\n",
    "            fc[:, 3] = fc[:, 3] * resolved[\"fill\"]  # TODO Is inplace mod a problem?\n",
    "            resolved[\"facecolor\"] = fc\n",
    "\n",
    "        return resolved\n",
    "\n",
    "    def _legend_artist(\n",
    "        self,\n",
    "        variables,\n",
    "        value: Any,\n",
    "        scales,\n",
    "    ) -> Artist:\n",
    "        # TODO return some sensible default?\n",
    "        key = {v: value for v in variables}\n",
    "        key = self._resolve_properties(key, scales)\n",
    "        artist = mpl.patches.Patch(\n",
    "            facecolor=key[\"facecolor\"],\n",
    "            edgecolor=key[\"edgecolor\"],\n",
    "            linewidth=key[\"edgewidth\"],\n",
    "            linestyle=key[\"edgestyle\"],\n",
    "        )\n",
    "        return artist\n",
    "\n",
    "\n",
    "@dataclass\n",
    "class Box(BarBase):\n",
    "    \"\"\"\n",
    "    An oriented rectangular mark drawn between min/max values.\n",
    "    Examples\n",
    "    --------\n",
    "    .. include:: ../docstrings/objects.Box.rst\n",
    "    \"\"\"\n",
    "\n",
    "    color: MappableColor = Mappable(\"C0\")\n",
    "    alpha: MappableFloat = Mappable(0.7)\n",
    "    fill: MappableBool = Mappable(True)\n",
    "    edgecolor: MappableColor = Mappable(depend=\"color\")\n",
    "    edgealpha: MappableFloat = Mappable(1)\n",
    "    edgewidth: MappableFloat = Mappable(rc=\"patch.linewidth\")\n",
    "    edgestyle: MappableFloat = Mappable(\"-\")\n",
    "    width: MappableFloat = Mappable(0.8, grouping=False)\n",
    "\n",
    "    def _clip_edges(self, artist: Artist, ax):\n",
    "        \"\"\"Add a clip path to patch artist so that edges do not extend past face.\"\"\"\n",
    "        # This is a hack to handle the fact that the edge lines are centered on\n",
    "        # the actual extents of the patch and overlap when stacking or dodging.\n",
    "        # We may discover that this causes issues and needs to be revisited.\n",
    "\n",
    "        # Because we are clipping, the edges end up looking half as wide as they\n",
    "        # actually are. I don't love this clumsy workaround, which is going to\n",
    "        # cause surprises if you work with the artists directly.\n",
    "        artist.set_linewidth(artist.get_linewidth() * 2)\n",
    "        linestyle = artist.get_linestyle()\n",
    "        if linestyle[1]:\n",
    "            linestyle = (linestyle[0], tuple(x / 2 for x in linestyle[1]))\n",
    "        artist.set_linestyle(linestyle)\n",
    "\n",
    "        # It should be faster to clip with a bbox than a path, but I cant't work\n",
    "        # out how to get the intersection with the axes bbox.\n",
    "        artist.set_clip_path(artist.get_path(), artist.get_transform() + ax.transData)\n",
    "        if self.artist_kws.get(\"clip_on\", True):\n",
    "            # It seems the above hack undoes the default axes clipping\n",
    "            artist.set_clip_box(ax.bbox)\n",
    "\n",
    "    def _plot(self, split_gen, scales, orient):\n",
    "        patches = defaultdict(list)\n",
    "\n",
    "        for keys, data, ax in split_gen():\n",
    "            kws = {}\n",
    "\n",
    "            resolved = self._resolve_properties(keys, scales)\n",
    "\n",
    "            kws[\"facecolor\"] = resolved[\"facecolor\"]\n",
    "            kws[\"edgecolor\"] = resolved[\"edgecolor\"]\n",
    "            kws[\"linewidth\"] = resolved[\"edgewidth\"]\n",
    "            kws[\"linestyle\"] = resolved[\"edgestyle\"]\n",
    "\n",
    "            other = {\"x\": \"y\", \"y\": \"x\"}[orient]\n",
    "\n",
    "            if not set(data.columns) & {f\"{other}min\", f\"{other}max\"}:\n",
    "                agg = {f\"{other}min\": (other, \"min\"), f\"{other}max\": (other, \"max\")}\n",
    "                data = data.groupby([orient, \"width\"]).agg(**agg).reset_index()\n",
    "\n",
    "            for row in data.itertuples():\n",
    "                if orient == \"x\":\n",
    "                    verts = np.array(\n",
    "                        [\n",
    "                            row.x - row.width / 2,\n",
    "                            row.ymin,\n",
    "                            row.x + row.width / 2,\n",
    "                            row.ymin,\n",
    "                            row.x + row.width / 2,\n",
    "                            row.ymax,\n",
    "                            row.x - row.width / 2,\n",
    "                            row.ymax,\n",
    "                        ]\n",
    "                    ).reshape((4, 2))\n",
    "                else:\n",
    "                    verts = np.array(\n",
    "                        [\n",
    "                            row.xmin,\n",
    "                            row.y - row.width / 2,\n",
    "                            row.xmax,\n",
    "                            row.y - row.width / 2,\n",
    "                            row.xmax,\n",
    "                            row.y + row.width / 2,\n",
    "                            row.xmin,\n",
    "                            row.y + row.width / 2,\n",
    "                        ]\n",
    "                    ).reshape((4, 2))\n",
    "\n",
    "                patches[ax].append(mpl.patches.Polygon(verts, **kws))\n",
    "                ax.update_datalim(verts)\n",
    "\n",
    "        for ax, ax_patches in patches.items():\n",
    "            for patch in ax_patches:\n",
    "                self._clip_edges(patch, ax)\n",
    "                ax.add_patch(patch)"
   ]
  },
  {
   "cell_type": "code",
   "execution_count": null,
   "metadata": {},
   "outputs": [],
   "source": [
    "ad = loadPkl('ad_scshc', lambda **dt:sc.read_h5ad(**dt), arg_path='filename', dir_path=dir_temp)"
   ]
  },
  {
   "cell_type": "code",
   "execution_count": null,
   "metadata": {},
   "outputs": [],
   "source": [
    "pad = singleCellTools.plotting.PlotAnndata(ad, 'sx')"
   ]
  },
  {
   "cell_type": "code",
   "execution_count": null,
   "metadata": {},
   "outputs": [],
   "source": [
    "# pad.getPb(\"CT\").write_h5ad(\"/data/Zhaijx/qinyw/data/flsnRNA/illumina_lib/circadian/20231110/soupX_all.h5ad\")"
   ]
  },
  {
   "cell_type": "code",
   "execution_count": null,
   "metadata": {},
   "outputs": [],
   "source": [
    "# pad.getPb([\"CT\", \"leiden_subcluster\"]).write_h5ad(\"/data/Zhaijx/qinyw/data/flsnRNA/illumina_lib/circadian/20231110/soupX_eachCluster.h5ad\")"
   ]
  },
  {
   "cell_type": "markdown",
   "metadata": {},
   "source": [
    "# load data"
   ]
  },
  {
   "cell_type": "markdown",
   "metadata": {},
   "source": [
    "## gene name locus "
   ]
  },
  {
   "cell_type": "code",
   "execution_count": null,
   "metadata": {},
   "outputs": [],
   "source": [
    "df_gff3 = (\n",
    "    pr.read_gff3(\"/data/Zhaijx/liuzj/data/Araport11/gene.gff\", as_df=True)\n",
    "    .query(\"Feature == 'gene'\")\n",
    "    .set_index(\"ID\")\n",
    ")"
   ]
  },
  {
   "cell_type": "code",
   "execution_count": null,
   "metadata": {},
   "outputs": [],
   "source": [
    "dt_locus2Name = df_gff3[\"Alias\"].dropna().to_dict()\n",
    "dt_locus2Name.update(df_gff3[\"symbol\"].dropna().to_dict())"
   ]
  },
  {
   "cell_type": "markdown",
   "metadata": {},
   "source": [
    "## core clock gene"
   ]
  },
  {
   "cell_type": "code",
   "execution_count": null,
   "metadata": {},
   "outputs": [],
   "source": [
    "ls_coreGenes = [\n",
    "    \"AT2G46830\",\n",
    "    \"AT1G01060\",\n",
    "    \"AT1G12910\",\n",
    "    \"AT3G26640\",\n",
    "    \"AT2G46790\",\n",
    "    \"AT5G02810\",\n",
    "    \"AT3G09600\",\n",
    "    \"AT5G52660\",\n",
    "    \"AT5G02840\",\n",
    "    \"AT5G64170\",\n",
    "    \"AT3G54500\",\n",
    "    \"AT5G24470\",\n",
    "    \"AT5G60100\",\n",
    "    \"AT5G61380\",\n",
    "    \"AT5G08330\",\n",
    "    \"AT1G22770\",\n",
    "    \"AT5G59570\",\n",
    "    \"AT3G46640\",\n",
    "    \"AT2G40080\",\n",
    "    \"AT2G25930\",\n",
    "]\n",
    "ls_coreGeneNames = [\n",
    "    \"CCA1\",\n",
    "    \"LHY\",\n",
    "    \"LWD1\",\n",
    "    \"LWD2\",\n",
    "    \"PRR9\",\n",
    "    \"PRR7\",\n",
    "    \"RVE8\",\n",
    "    \"RVE6\",\n",
    "    \"RVE4\",\n",
    "    \"LNK1\",\n",
    "    \"LNK2\",\n",
    "    \"PRR5\",\n",
    "    \"PRR3\",\n",
    "    \"TOC1\",\n",
    "    \"CHE\",\n",
    "    \"GI\",\n",
    "    \"NOX\",\n",
    "    \"LUX\",\n",
    "    \"ELF4\",\n",
    "    \"ELF3\",\n",
    "]\n",
    "dt_coreGene = dict(zip(ls_coreGenes, ls_coreGeneNames))\n",
    "dt_coreGene\n",
    "\n",
    "# added\n",
    "dt_coreGene['AT5G57360'] = 'ZTL'"
   ]
  },
  {
   "cell_type": "code",
   "execution_count": null,
   "metadata": {},
   "outputs": [
    {
     "data": {
      "text/plain": [
       "{'AT5G64170': 'LNK1',\n",
       " 'AT5G61380': 'TOC1',\n",
       " 'AT5G60100': 'PRR3',\n",
       " 'AT5G57360': 'ZTL',\n",
       " 'AT5G52660': 'RVE6',\n",
       " 'AT5G24470': 'PRR5',\n",
       " 'AT5G02840': 'RVE4',\n",
       " 'AT5G02810': 'PRR7',\n",
       " 'AT3G54500': 'LNK2',\n",
       " 'AT3G46640': 'LUX',\n",
       " 'AT3G09600': 'RVE8',\n",
       " 'AT2G46830': 'CCA1',\n",
       " 'AT2G46790': 'PRR9',\n",
       " 'AT2G40080': 'ELF4',\n",
       " 'AT2G25930': 'ELF3',\n",
       " 'AT1G22770': 'GI',\n",
       " 'AT1G01060': 'LHY'}"
      ]
     },
     "metadata": {},
     "output_type": "display_data"
    }
   ],
   "source": [
    "_ls = \"\"\"AT5G64170\n",
    "AT5G61380\n",
    "AT5G60100\n",
    "AT5G57360\n",
    "AT5G52660\n",
    "AT5G24470\n",
    "AT5G02840\n",
    "AT5G02810\n",
    "AT3G54500\n",
    "AT3G46640\n",
    "AT3G09600\n",
    "AT2G46830\n",
    "AT2G46790\n",
    "AT2G40080\n",
    "AT2G25930\n",
    "AT1G22770\n",
    "AT1G01060\"\"\".split()\n",
    "dt_coreGene = {x:dt_coreGene[x] for x in _ls}\n",
    "dt_coreGene"
   ]
  },
  {
   "cell_type": "markdown",
   "metadata": {},
   "source": [
    "# QC"
   ]
  },
  {
   "cell_type": "code",
   "execution_count": null,
   "metadata": {},
   "outputs": [],
   "source": [
    "from joblib import Parallel, delayed"
   ]
  },
  {
   "cell_type": "code",
   "execution_count": null,
   "metadata": {},
   "outputs": [],
   "source": [
    "ls_sample = [8, 10, 12, 14, 16, 18, 20, 22, 24, 2, 4, 6] | F(map, str) | F(list)"
   ]
  },
  {
   "cell_type": "code",
   "execution_count": null,
   "metadata": {},
   "outputs": [],
   "source": [
    "def removeDoubletsAndGetAmbientScore(sample):\n",
    "    import rpy2.robjects as ro\n",
    "    ro.r(\".libPaths\")(\"/public1/software/liuzj/softwares/anaconda3/envs/sc_py/lib/R/library\")\n",
    "    ad_sample = sc.read_10x_h5(\n",
    "        f\"/public/home/liuzj/projects/circadian/02_cellranger/circadian_{sample}/outs/filtered_feature_bc_matrix.h5\"\n",
    "        )\n",
    "    ad_sample.layers[\"raw\"] = ad_sample.X.copy()\n",
    "    singleCellTools.detectDoublet.byScDblFinder(ad_sample)\n",
    "    ad_sampleRaw = sc.read_10x_h5(\n",
    "        f\"/public/home/liuzj/projects/circadian/02_cellranger/circadian_{sample}/outs/raw_feature_bc_matrix.h5\"\n",
    "    )\n",
    "    ad_sampleRaw.layers[\"raw\"] = ad_sampleRaw.X.copy()\n",
    "    singleCellTools.removeAmbient.removeAmbientBySoupx(ad_sample, ad_sampleRaw, res=1.5)\n",
    "    return ad_sample"
   ]
  },
  {
   "cell_type": "code",
   "execution_count": null,
   "metadata": {},
   "outputs": [],
   "source": [
    "ls_afterAmbAndRemoveDoubletsAd = Parallel(n_jobs=12, backend='multiprocessing')(delayed(removeDoubletsAndGetAmbientScore)(sample) for sample in ls_sample)"
   ]
  },
  {
   "cell_type": "code",
   "execution_count": null,
   "metadata": {},
   "outputs": [],
   "source": [
    "ad = sc.concat(dict(zip(ls_sample,ls_afterAmbAndRemoveDoubletsAd)), join='outer', label='Sample', index_unique='-')"
   ]
  },
  {
   "cell_type": "code",
   "execution_count": null,
   "metadata": {},
   "outputs": [],
   "source": [
    "def _getCt(x):\n",
    "    x = int(x)\n",
    "    x -= 8\n",
    "    if x < 0:\n",
    "        x += 24\n",
    "    return str(x)"
   ]
  },
  {
   "cell_type": "code",
   "execution_count": null,
   "metadata": {},
   "outputs": [],
   "source": [
    "ad.obs['CT'] = ad.obs['Sample'].map(_getCt).astype('category')"
   ]
  },
  {
   "cell_type": "code",
   "execution_count": null,
   "metadata": {},
   "outputs": [],
   "source": [
    "(\n",
    "    so.Plot(ad.obs, x='ambientRnaFractionEstimatedBySoupx')\n",
    "    .facet('CT', wrap=4)\n",
    "    .share(x=False)\n",
    "    .add(so.Bars(), so.Hist(bins=100))\n",
    "    .label(x='RHO')\n",
    "    .scale(x=so.Continuous().tick(every=0.1))\n",
    "    .limit(x=[0, 1])\n",
    "    .layout(size=(12,6))\n",
    "    .theme(dt_snsStyle)\n",
    ")"
   ]
  },
  {
   "cell_type": "code",
   "execution_count": null,
   "metadata": {},
   "outputs": [],
   "source": [
    "singleCellTools.basic.initLayer(ad, layer='raw')"
   ]
  },
  {
   "cell_type": "code",
   "execution_count": null,
   "metadata": {},
   "outputs": [],
   "source": [
    "sc.pp.filter_genes(ad, min_cells=10)"
   ]
  },
  {
   "cell_type": "code",
   "execution_count": null,
   "metadata": {},
   "outputs": [],
   "source": [
    "singleCellTools.plotting.plotCellScatter(ad, batch='Sample')"
   ]
  },
  {
   "cell_type": "code",
   "execution_count": null,
   "metadata": {},
   "outputs": [],
   "source": [
    "(\n",
    "    so.Plot(ad.obs, x='n_genes')\n",
    "    .facet('CT', wrap=4)\n",
    "    .share(y=False, x=False)\n",
    "    .add(so.Bars(), so.Hist(bins=100))\n",
    "    .label(x='Gene counts')\n",
    "    .scale(x=so.Continuous().tick(every=500))\n",
    "    .limit(x=[0, 3000])\n",
    "    .layout(size=(12,6))\n",
    "    .theme(dt_snsStyle)\n",
    ")"
   ]
  },
  {
   "cell_type": "code",
   "execution_count": null,
   "metadata": {},
   "outputs": [],
   "source": [
    "(\n",
    "    so.Plot(ad.obs, x='n_counts')\n",
    "    .facet('CT', wrap=4)\n",
    "    .share(y=False, x=False)\n",
    "    .add(so.Bars(), so.Hist(bins=100))\n",
    "    .label(x='UMI counts')\n",
    "    .scale(x=so.Continuous().tick(every=1000))\n",
    "    .limit(x=[0, 5000])\n",
    "    .layout(size=(12,6))\n",
    "    .theme(dt_snsStyle)\n",
    ")"
   ]
  },
  {
   "cell_type": "code",
   "execution_count": null,
   "metadata": {},
   "outputs": [],
   "source": [
    "(\n",
    "    so.Plot(ad.obs, x='percent_ct')\n",
    "    .facet('CT', wrap=4)\n",
    "    .share(y=False, x=False)\n",
    "    .add(so.Bars(), so.Hist(bins=100))\n",
    "    .label(x='Percent CT')\n",
    "    .scale(x=so.Continuous().tick(every=0.02))\n",
    "    .limit(x=[0, 0.1])\n",
    "    .layout(size=(12,6))\n",
    "    .theme(dt_snsStyle)\n",
    ")"
   ]
  },
  {
   "cell_type": "code",
   "execution_count": null,
   "metadata": {},
   "outputs": [],
   "source": [
    "def addDensityToDf(df:pd.DataFrame, x:str, y:str, group=None, bins=20):\n",
    "    from scipy.interpolate import interpn\n",
    "    from scipy.stats import gaussian_kde\n",
    "\n",
    "    if group:\n",
    "        df = df.groupby(group, as_index=False).apply(lambda df: addDensityToDf(df, x=x, y=y, bins=bins)).reset_index(level=0, drop=True)\n",
    "    elif bins is None:\n",
    "        x = df[x].values\n",
    "        y = df[y].values\n",
    "        xy = np.vstack([x,y])\n",
    "        z = gaussian_kde(xy)(xy)\n",
    "        df['temp_density'] = z\n",
    "        df = df.sort_values('temp_density')\n",
    "    else:\n",
    "        x = df[x].values\n",
    "        y = df[y].values\n",
    "        data , x_e, y_e = np.histogram2d( x, y, bins = bins, density = True )\n",
    "        z = interpn( ( 0.5*(x_e[1:] + x_e[:-1]) , 0.5*(y_e[1:]+y_e[:-1]) ) , data , np.vstack([x,y]).T , method = \"splinef2d\", bounds_error = False)\n",
    "        z[np.where(np.isnan(z))] = 0.0\n",
    "        df['temp_density'] = z\n",
    "        df = df.sort_values('temp_density')\n",
    "    return df"
   ]
  },
  {
   "cell_type": "code",
   "execution_count": null,
   "metadata": {},
   "outputs": [],
   "source": [
    "_df = addDensityToDf(ad.obs, x='n_counts', y='percent_ct', group='CT', bins=50)\n",
    "(\n",
    "    so.Plot(_df, x='n_counts', y='percent_ct', color='temp_density')\n",
    "    .facet('CT', wrap=4)\n",
    "    .share(y=False, x=False)\n",
    "    .add(so.Dots(pointsize=1, fillalpha=0.2, alpha=0.2), legend=False)\n",
    "    .label(x='UMI counts', y='Percent CT')\n",
    "    # .scale(x=so.Continuous().tick(every=1000))\n",
    "    .limit(x=[0, 5000], y=[0,0.1])\n",
    "    .layout(size=(12,6))\n",
    "    .theme(dt_snsStyle)\n",
    ")"
   ]
  },
  {
   "cell_type": "code",
   "execution_count": null,
   "metadata": {},
   "outputs": [],
   "source": [
    "_df = addDensityToDf(ad.obs, x='n_counts', y='ambientRnaFractionEstimatedBySoupx', group='CT', bins=50)\n",
    "(\n",
    "    so.Plot(_df, x='n_counts', y='ambientRnaFractionEstimatedBySoupx', color='temp_density')\n",
    "    .facet('CT', wrap=4)\n",
    "    .share(y=False, x=False)\n",
    "    .add(so.Dots(pointsize=1, fillalpha=0.2, alpha=0.2), legend=False)\n",
    "    .label(x='UMI counts', y='RHO')\n",
    "    # .scale(x=so.Continuous().tick(every=1000))\n",
    "    # .limit(x=[0, 5000])\n",
    "    .layout(size=(12,6))\n",
    "    .theme(dt_snsStyle)\n",
    ")"
   ]
  },
  {
   "cell_type": "code",
   "execution_count": null,
   "metadata": {},
   "outputs": [],
   "source": [
    "_df = addDensityToDf(ad.obs, x='n_counts', y='ambientRnaFractionEstimatedBySoupx', group='CT', bins=50)\n",
    "(\n",
    "    so.Plot(_df, x='n_counts', y='ambientRnaFractionEstimatedBySoupx', color='temp_density')\n",
    "    .facet('CT', wrap=4)\n",
    "    .add(so.Dots(pointsize=1, fillalpha=0.2, alpha=0.2), legend=False)\n",
    "    .label(x='UMI counts', y='RHO')\n",
    "    # .scale(x=so.Continuous().tick(every=1000))\n",
    "    # .limit(x=[0, 5000])\n",
    "    .layout(size=(12,6))\n",
    "    .theme(dt_snsStyle)\n",
    ")"
   ]
  },
  {
   "cell_type": "code",
   "execution_count": null,
   "metadata": {},
   "outputs": [],
   "source": [
    "_df = addDensityToDf(ad.obs, x='n_counts', y='ambientRnaFractionEstimatedBySoupx', group='CT', bins=50)\n",
    "_ls = ['3', '8', '12', '13']\n",
    "_df['Cluster'] = _df['Cluster'].map(lambda x: x if x in _ls else 'Other')\n",
    "_df = _df.sort_values(\"Cluster\", ascending=False)\n",
    "(\n",
    "    so.Plot(_df, x='n_counts', y='ambientRnaFractionEstimatedBySoupx', color='Cluster')\n",
    "    .facet('CT', wrap=4)\n",
    "    .add(so.Dots(pointsize=1, fillalpha=1, alpha=1),)\n",
    "    .label(x='UMI counts', y='RHO')\n",
    "    # .scale(x=so.Continuous().tick(every=1000))\n",
    "    # .limit(x=[0, 5000])\n",
    "    .scale(color={**singleCellTools.basic.getadataColor(ad, 'Cluster'), 'Other': 'grey'})\n",
    "    .layout(size=(12,6))\n",
    "    .theme({**dt_snsStyle, 'legend.markerscale': 5})\n",
    ")"
   ]
  },
  {
   "cell_type": "code",
   "execution_count": null,
   "metadata": {},
   "outputs": [],
   "source": []
  },
  {
   "cell_type": "code",
   "execution_count": null,
   "metadata": {},
   "outputs": [],
   "source": [
    "def is_outlier(adata, metric: str, nmads: int):\n",
    "    M = adata.obs[metric]\n",
    "    outlier = (M < np.median(M) - nmads * M.mad()) | (\n",
    "        np.median(M) + nmads * M.mad() < M\n",
    "    )\n",
    "    return outlier"
   ]
  },
  {
   "cell_type": "code",
   "execution_count": null,
   "metadata": {},
   "outputs": [],
   "source": [
    "ls_outlier = []\n",
    "for _ad in singleCellTools.basic.splitAdata(ad, 'CT', copy=False):\n",
    "    ls_outlier.append(is_outlier(_ad, 'n_counts', 5) | is_outlier(_ad, \"n_genes\", 5) | is_outlier(_ad, \"percent_ct\", 5))"
   ]
  },
  {
   "cell_type": "code",
   "execution_count": null,
   "metadata": {},
   "outputs": [],
   "source": [
    "ad.obs[\"outlier\"] = pd.concat(ls_outlier)"
   ]
  },
  {
   "cell_type": "code",
   "execution_count": null,
   "metadata": {},
   "outputs": [],
   "source": [
    "ad = ad[~ad.obs['outlier']]"
   ]
  },
  {
   "cell_type": "code",
   "execution_count": null,
   "metadata": {},
   "outputs": [],
   "source": [
    "ad.obs.eval(\"percent_ct >= 0.1\").value_counts()"
   ]
  },
  {
   "cell_type": "code",
   "execution_count": null,
   "metadata": {},
   "outputs": [],
   "source": [
    "sc.pp.filter_genes(ad, min_cells=10)"
   ]
  },
  {
   "cell_type": "code",
   "execution_count": null,
   "metadata": {},
   "outputs": [],
   "source": [
    "ad.raw = ad"
   ]
  },
  {
   "cell_type": "code",
   "execution_count": null,
   "metadata": {},
   "outputs": [],
   "source": [
    "ad = ad[:, ~ad.var.index.str.contains(r'ATCG|ATMG')]"
   ]
  },
  {
   "cell_type": "code",
   "execution_count": null,
   "metadata": {},
   "outputs": [],
   "source": [
    "ad.obs['Batch'] = np.where((ad.obs['Sample'].astype(int) % 4) == 0, '1', '2')"
   ]
  },
  {
   "cell_type": "code",
   "execution_count": null,
   "metadata": {},
   "outputs": [],
   "source": [
    "toPkl(ad, 'ad_afterQC_1123', 'ipf', dir_path=dir_temp)"
   ]
  },
  {
   "cell_type": "code",
   "execution_count": null,
   "metadata": {},
   "outputs": [],
   "source": [
    "ad = loadPkl(\n",
    "    \"ad_afterQC_1123\",\n",
    "    lambda **dt: sc.read_h5ad(**dt),\n",
    "    arg_path=\"filename\",\n",
    "    dir_path=dir_temp,\n",
    ")"
   ]
  },
  {
   "cell_type": "code",
   "execution_count": null,
   "metadata": {},
   "outputs": [],
   "source": [
    "ad.obs = ad.obs.assign(\n",
    "    CT=lambda x: x[\"CT\"].map(lambda y: y >> F(int) >> F(lambda z: z + 24) >> F(str))\n",
    ")"
   ]
  },
  {
   "cell_type": "code",
   "execution_count": null,
   "metadata": {},
   "outputs": [],
   "source": [
    "ad.obs[\"n_counts\"] = ad.layers[\"raw\"].sum(1).A1"
   ]
  },
  {
   "cell_type": "code",
   "execution_count": null,
   "metadata": {},
   "outputs": [],
   "source": [
    "ad.layers[\"sx\"] = ad.layers[\"soupX_corrected\"].copy()"
   ]
  },
  {
   "cell_type": "code",
   "execution_count": null,
   "metadata": {},
   "outputs": [
    {
     "name": "stdout",
     "output_type": "stream",
     "text": [
      "WARNING: adata.X seems to be already log-transformed.\n"
     ]
    }
   ],
   "source": [
    "ad.layers[\"sx_log\"] = ad.layers[\"sx\"].copy()\n",
    "sc.pp.normalize_total(ad, 1e4, layer=\"sx_log\")\n",
    "sc.pp.log1p(ad, layer=\"sx_log\", base=2)"
   ]
  },
  {
   "cell_type": "code",
   "execution_count": null,
   "metadata": {},
   "outputs": [],
   "source": []
  },
  {
   "cell_type": "code",
   "execution_count": null,
   "metadata": {},
   "outputs": [],
   "source": [
    "_dt = {**dt_snsStyle, \"axes.spines.left\": False}\n",
    "g0 = (\n",
    "    so.Plot(ad.obs, color=\"CT\")\n",
    "    .add(so.Bar(fill=False), so.Count(), y=\"CT\", legend=False)\n",
    "    .theme(_dt)\n",
    "    .label(x=\"Nuclei count\", y=\"\")\n",
    "    .scale(color=sc.plotting.palettes.default_20)\n",
    "    .on(pw.basefigure)\n",
    "    .plot()\n",
    ")\n",
    "bk0 = pw.load_seabornobj(g0, figsize=(1, 3))\n",
    "bk0.invert_xaxis()\n",
    "bk0.yaxis.set_label_position(\"right\")\n",
    "bk0.yaxis.set_ticks_position(\"right\")\n",
    "bk0.set_yticklabels([f\"CT {x.get_text()}\" for x in bk0.get_yticklabels()])\n",
    "bk0.yaxis.set_ticks_position(\"none\")\n",
    "for axis in [\"top\", \"bottom\", \"left\", \"right\"]:\n",
    "    bk0.spines[axis].set_linewidth(2)\n",
    "bk0.tick_params(width=2)\n",
    "bk0.set_xlabel(\"Nucleus count\", fontsize=14)\n",
    "bk0.set_xscale(\"symlog\")\n",
    "bk0.set_xlim(3e4, 0)\n",
    "bk0.set_xticklabels(\n",
    "    [\n",
    "        x.get_text() if x.get_text() != \"$\\\\mathdefault{0}$\" else \"\"\n",
    "        for x in bk0.get_xticklabels()\n",
    "    ],\n",
    "    fontsize=12,\n",
    ")\n",
    "bk0.tick_params(width=2)\n",
    "\n",
    "with plt.rc_context(_dt):\n",
    "    bk1 = pw.Brick(figsize=(5, 3))\n",
    "\n",
    "    sns.boxplot(ad.obs, x=\"n_genes\", y=\"CT\", showfliers=False, ax=bk1)\n",
    "    for i, (box, color) in enumerate(\n",
    "        zip(\n",
    "            [x for x in bk1.get_children() if isinstance(x, mpl.patches.PathPatch)],\n",
    "            sc.plotting.palettes.default_20,\n",
    "        )\n",
    "    ):\n",
    "        box.set_edgecolor(color)\n",
    "        box.set_facecolor(\"white\")\n",
    "        # iterate over whiskers and median lines\n",
    "        for j in range(5 * i, 5 * (i + 1)):\n",
    "            bk1.lines[j].set_color(color)\n",
    "    bk1.yaxis.set_ticks_position(\"none\")\n",
    "    bk1.set_yticklabels([f\"\" for x in bk1.get_yticklabels()])\n",
    "    bk1.set_xticklabels([x for x in bk1.get_xticklabels()], fontsize=12)\n",
    "    bk1.set_ylabel(\"\")\n",
    "    bk1.set_xlabel(\"Gene count\", fontsize=14)\n",
    "    plt.close()\n",
    "\n",
    "for axis in [\"top\", \"bottom\", \"left\", \"right\"]:\n",
    "    bk1.spines[axis].set_linewidth(2)\n",
    "bk1.tick_params(width=2)\n",
    "\n",
    "bk = pwStack([bk0, bk1], wmargin=0)\n",
    "pwShow(bk)"
   ]
  }
 ],
 "metadata": {
  "language_info": {
   "name": "python"
  }
 },
 "nbformat": 4,
 "nbformat_minor": 2
}
